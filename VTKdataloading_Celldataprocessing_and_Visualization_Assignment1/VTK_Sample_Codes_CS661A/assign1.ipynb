{
 "cells": [
  {
   "cell_type": "code",
   "execution_count": 1,
   "id": "e244f56d",
   "metadata": {},
   "outputs": [],
   "source": [
    "from vtk import *"
   ]
  },
  {
   "cell_type": "code",
   "execution_count": 2,
   "id": "e61e7743",
   "metadata": {},
   "outputs": [],
   "source": [
    "reader = vtkXMLImageDataReader()\n",
    "reader.SetFileName('Data/Isabel_2D.vti')\n",
    "reader.Update()\n",
    "data = reader.GetOutput()"
   ]
  },
  {
   "cell_type": "markdown",
   "id": "6948ed13",
   "metadata": {},
   "source": [
    "# Question 1"
   ]
  },
  {
   "cell_type": "markdown",
   "id": "ba9ed76e",
   "metadata": {},
   "source": [
    "### 1.1 Number of cells in the Dataset"
   ]
  },
  {
   "cell_type": "code",
   "execution_count": 3,
   "id": "bfbf17ec",
   "metadata": {},
   "outputs": [],
   "source": [
    "numCells = data.GetNumberOfCells()"
   ]
  },
  {
   "cell_type": "code",
   "execution_count": 4,
   "id": "9ece30e9",
   "metadata": {},
   "outputs": [
    {
     "name": "stdout",
     "output_type": "stream",
     "text": [
      "Number of cells in the dataset: 62001\n"
     ]
    }
   ],
   "source": [
    "print(\"Number of cells in the dataset:\",numCells)"
   ]
  },
  {
   "cell_type": "markdown",
   "id": "de12b559",
   "metadata": {},
   "source": [
    "### 1.2 The dimensions of the dataset"
   ]
  },
  {
   "cell_type": "code",
   "execution_count": 5,
   "id": "2c486726",
   "metadata": {},
   "outputs": [],
   "source": [
    "Dimension=data.GetDimensions()"
   ]
  },
  {
   "cell_type": "code",
   "execution_count": 6,
   "id": "d1285c6c",
   "metadata": {},
   "outputs": [
    {
     "name": "stdout",
     "output_type": "stream",
     "text": [
      " Dimensions of the dataset: (250, 250, 1)\n"
     ]
    }
   ],
   "source": [
    "print(\" Dimensions of the dataset:\",Dimension)"
   ]
  },
  {
   "cell_type": "markdown",
   "id": "386d755a",
   "metadata": {},
   "source": [
    "### 1.3 The number of points present in the uniform grid of the data"
   ]
  },
  {
   "cell_type": "code",
   "execution_count": 7,
   "id": "74fbf7e0",
   "metadata": {},
   "outputs": [],
   "source": [
    "Number_of_points=Dimension[0]*Dimension[1]*Dimension[2]"
   ]
  },
  {
   "cell_type": "code",
   "execution_count": 8,
   "id": "75b213ce",
   "metadata": {},
   "outputs": [
    {
     "name": "stdout",
     "output_type": "stream",
     "text": [
      "The number of points present in the uniform grid of the data: 62500\n"
     ]
    }
   ],
   "source": [
    "print(\"The number of points present in the uniform grid of the data:\",Number_of_points)"
   ]
  },
  {
   "cell_type": "markdown",
   "id": "20c69003",
   "metadata": {},
   "source": [
    "### 1.4 Print the range of Pressure values present in the dataset"
   ]
  },
  {
   "cell_type": "code",
   "execution_count": 9,
   "id": "5dc6b965",
   "metadata": {},
   "outputs": [],
   "source": [
    "surface=vtkGeometryFilter()\n",
    "surface.SetInputData(data)\n",
    "surface.Update()\n",
    "Pressure_Data=surface.GetOutput()\n",
    "Range=Pressure_Data.GetPointData().GetArray('Pressure').GetRange()"
   ]
  },
  {
   "cell_type": "code",
   "execution_count": 10,
   "id": "22e7c622",
   "metadata": {},
   "outputs": [
    {
     "name": "stdout",
     "output_type": "stream",
     "text": [
      "The range of Pressure values present in the dataset: (-1434.8590087890625, 630.5694580078125)\n"
     ]
    }
   ],
   "source": [
    "print(\"The range of Pressure values present in the dataset:\",Range)"
   ]
  },
  {
   "cell_type": "markdown",
   "id": "1d8c7b28",
   "metadata": {},
   "source": [
    "### 1.5 Print the average Pressure value of the entire dataset"
   ]
  },
  {
   "cell_type": "code",
   "execution_count": 11,
   "id": "124885fe",
   "metadata": {},
   "outputs": [],
   "source": [
    "dataArr = data.GetPointData().GetArray('Pressure')"
   ]
  },
  {
   "cell_type": "code",
   "execution_count": 12,
   "id": "d0c931b1",
   "metadata": {},
   "outputs": [
    {
     "name": "stdout",
     "output_type": "stream",
     "text": [
      "Print the average Pressure value of the entire dataset 240.77722069091325\n"
     ]
    }
   ],
   "source": [
    "sum_pre=0\n",
    "for i in range(dataArr.GetNumberOfTuples()):\n",
    "     sum_pre+=dataArr.GetTuple1(i)\n",
    "avg_pressure=sum_pre/dataArr.GetNumberOfTuples()\n",
    "print(\"Print the average Pressure value of the entire dataset\",avg_pressure)\n"
   ]
  },
  {
   "cell_type": "markdown",
   "id": "e7731ede",
   "metadata": {},
   "source": [
    "### 1.6 Extract a vtkCell object with cell id=0, i.e., the first cell"
   ]
  },
  {
   "cell_type": "code",
   "execution_count": 13,
   "id": "ac9bb1de",
   "metadata": {},
   "outputs": [],
   "source": [
    "### Get a single cell from the list of cells\n",
    "cell_id=0\n",
    "cell = data.GetCell(cell_id)"
   ]
  },
  {
   "cell_type": "markdown",
   "id": "ee43e415",
   "metadata": {},
   "source": [
    "### 1.7 Print the indices of the four corner vertices of the cell"
   ]
  },
  {
   "cell_type": "code",
   "execution_count": 14,
   "id": "babc90c7",
   "metadata": {},
   "outputs": [
    {
     "name": "stdout",
     "output_type": "stream",
     "text": [
      "The indices of the four corner vertices of the cell:\n",
      "0 1 251 250\n"
     ]
    }
   ],
   "source": [
    "#  4 corner points of the cell with cell id=0\n",
    "\n",
    "pid1 = cell.GetPointId(0)\n",
    "pid2 = cell.GetPointId(1)\n",
    "pid3 = cell.GetPointId(3)\n",
    "pid4 = cell.GetPointId(2)\n",
    "\n",
    "print('The indices of the four corner vertices of the cell:')\n",
    "print(pid1,pid2,pid3,pid4) ## in counter-clockwise order"
   ]
  },
  {
   "cell_type": "markdown",
   "id": "9fef7326",
   "metadata": {},
   "source": [
    "### 1.8 Print the 3D coordinate of each vertex"
   ]
  },
  {
   "cell_type": "code",
   "execution_count": 15,
   "id": "71156b03",
   "metadata": {},
   "outputs": [
    {
     "name": "stdout",
     "output_type": "stream",
     "text": [
      "3D coordinate of each vertex:\n",
      "(0.0, 0.0, 25.0)\n",
      "(1.0, 0.0, 25.0)\n",
      "(1.0, 1.0, 25.0)\n",
      "(0.0, 1.0, 25.0)\n"
     ]
    }
   ],
   "source": [
    "## Print the locations (3D coordinates) of the points\n",
    "print('3D coordinate of each vertex:') #in counter clockwise order\n",
    "print(data.GetPoint(pid1))\n",
    "print(data.GetPoint(pid2))\n",
    "print(data.GetPoint(pid3))\n",
    "print(data.GetPoint(pid4))"
   ]
  },
  {
   "cell_type": "markdown",
   "id": "64fe6eb9",
   "metadata": {},
   "source": [
    "### 1.9 Compute the 3D coordinate of the cell center using its four corner vertices"
   ]
  },
  {
   "cell_type": "code",
   "execution_count": 16,
   "id": "0038a952",
   "metadata": {},
   "outputs": [
    {
     "name": "stdout",
     "output_type": "stream",
     "text": [
      "3D coordinate of the cell center using its four corner vertices (0.5, 0.5, 25.0)\n"
     ]
    }
   ],
   "source": [
    "avg_x=(data.GetPoint(pid1)[0]+data.GetPoint(pid2)[0]+data.GetPoint(pid3)[0]+data.GetPoint(pid4)[0])/4\n",
    "avg_y=(data.GetPoint(pid1)[1]+data.GetPoint(pid2)[1]+data.GetPoint(pid3)[1]+data.GetPoint(pid4)[1])/4\n",
    "avg_z=(data.GetPoint(pid1)[2]+data.GetPoint(pid2)[2]+data.GetPoint(pid3)[2]+data.GetPoint(pid4)[2])/4\n",
    "center_coordinate=(avg_x,avg_y,avg_z)\n",
    "print(\"3D coordinate of the cell center using its four corner vertices\",center_coordinate)"
   ]
  },
  {
   "cell_type": "markdown",
   "id": "0b618cf4",
   "metadata": {},
   "source": [
    "### 1.10 Print the data value (Pressure) for all the four vertices of the extracted cell"
   ]
  },
  {
   "cell_type": "code",
   "execution_count": 17,
   "id": "c0321a62",
   "metadata": {},
   "outputs": [
    {
     "name": "stdout",
     "output_type": "stream",
     "text": [
      "Pressure for all the four vertices of the extracted cell.: 477.527587890625 474.79827880859375 467.60699462890625 478.0115661621094\n"
     ]
    }
   ],
   "source": [
    "dataArr = data.GetPointData().GetArray('Pressure')\n",
    "val1 = dataArr.GetTuple1(pid1)\n",
    "val2 = dataArr.GetTuple1(pid2)\n",
    "val3 = dataArr.GetTuple1(pid3)\n",
    "val4 = dataArr.GetTuple1(pid4)\n",
    "print(\"Pressure for all the four vertices of the extracted cell.:\",val1,val2,val3,val4)"
   ]
  },
  {
   "cell_type": "markdown",
   "id": "3718f60c",
   "metadata": {},
   "source": [
    "### 1.11 Print the mean (average) Pressure value at the cell center"
   ]
  },
  {
   "cell_type": "code",
   "execution_count": 18,
   "id": "ea191ab6",
   "metadata": {},
   "outputs": [
    {
     "name": "stdout",
     "output_type": "stream",
     "text": [
      "Mean pressure of extracted cell by averaging pressure: 474.4861068725586\n"
     ]
    }
   ],
   "source": [
    "avg_pressure_extracted_cell=(val1+val2+val3+val4)/4\n",
    "print(\"Mean pressure of extracted cell by averaging pressure:\",avg_pressure_extracted_cell)"
   ]
  },
  {
   "cell_type": "markdown",
   "id": "50443af2",
   "metadata": {},
   "source": [
    "# Question 2"
   ]
  },
  {
   "cell_type": "code",
   "execution_count": 19,
   "id": "595c7d27",
   "metadata": {},
   "outputs": [],
   "source": [
    "points = vtkPoints()\n",
    "points.InsertNextPoint(data.GetPoint(pid1))\n",
    "points.InsertNextPoint(data.GetPoint(pid2))\n",
    "points.InsertNextPoint(data.GetPoint(pid3))\n",
    "points.InsertNextPoint(data.GetPoint(pid4))\n",
    "\n",
    "### Create a polydata\n",
    "polydata= vtkPolyData()\n",
    "\n",
    "### Add points to polydata\n",
    "polydata.SetPoints(points)"
   ]
  },
  {
   "cell_type": "code",
   "execution_count": 20,
   "id": "8172f1d7",
   "metadata": {},
   "outputs": [],
   "source": [
    "# Create an array of colors\n",
    "colors = vtkUnsignedCharArray()\n",
    "colors.SetNumberOfComponents(3)\n",
    "colors.SetName(\"Colors\")\n",
    "colors.InsertNextTuple3(255, 0, 0) # red\n",
    "colors.InsertNextTuple3(0, 255, 0) # green\n",
    "colors.InsertNextTuple3(0, 0, 255) # blue\n",
    "colors.InsertNextTuple3(21, 244, 238) # fluorescent blue\n",
    "polydata.GetPointData().SetScalars(colors)\n",
    "\n",
    "# Create the vertex glyph filter\n",
    "glyphFilter = vtkVertexGlyphFilter()\n",
    "glyphFilter.SetInputData(polydata)\n",
    "glyphFilter.Update()"
   ]
  },
  {
   "cell_type": "code",
   "execution_count": 21,
   "id": "3257c678",
   "metadata": {},
   "outputs": [],
   "source": [
    "# Create the mapper, actor, and renderer\n",
    "mapper = vtkPolyDataMapper()\n",
    "mapper.SetInputConnection(glyphFilter.GetOutputPort())\n",
    "actor = vtkActor()\n",
    "actor.SetMapper(mapper)\n",
    "actor.GetProperty().SetPointSize(30)\n",
    "renderer = vtkRenderer()\n",
    "renderer.AddActor(actor)"
   ]
  },
  {
   "cell_type": "code",
   "execution_count": 22,
   "id": "af99427e",
   "metadata": {},
   "outputs": [],
   "source": [
    "# Display the renderer\n",
    "renWin = vtkRenderWindow()\n",
    "renWin.AddRenderer(renderer)\n",
    "iren = vtkRenderWindowInteractor()\n",
    "iren.SetRenderWindow(renWin)\n",
    "iren.Initialize()\n",
    "iren.Start()"
   ]
  }
 ],
 "metadata": {
  "kernelspec": {
   "display_name": "Python 3 (ipykernel)",
   "language": "python",
   "name": "python3"
  },
  "language_info": {
   "codemirror_mode": {
    "name": "ipython",
    "version": 3
   },
   "file_extension": ".py",
   "mimetype": "text/x-python",
   "name": "python",
   "nbconvert_exporter": "python",
   "pygments_lexer": "ipython3",
   "version": "3.10.5"
  }
 },
 "nbformat": 4,
 "nbformat_minor": 5
}
