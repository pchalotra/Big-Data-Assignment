{
 "cells": [
  {
   "cell_type": "code",
   "execution_count": 1,
   "id": "1db57ace",
   "metadata": {},
   "outputs": [],
   "source": [
    "import vtk \n",
    "import numpy as np\n",
    "import random\n",
    "import time\n",
    "from scipy.interpolate import griddata"
   ]
  },
  {
   "cell_type": "code",
   "execution_count": 2,
   "id": "61e0de7c",
   "metadata": {},
   "outputs": [],
   "source": [
    "reader = vtk.vtkXMLImageDataReader()\n",
    "reader.SetFileName('Isabel_3D.vti')\n",
    "reader.Update()\n",
    "data=reader.GetOutput()"
   ]
  },
  {
   "cell_type": "code",
   "execution_count": 3,
   "id": "a6e66603",
   "metadata": {},
   "outputs": [],
   "source": [
    "total_values=data.GetPointData().GetScalars()\n",
    "total_points = np.array([data.GetPoint(i) for i in range(data.GetNumberOfPoints())])\n",
    "original_dim=data.GetDimensions()"
   ]
  },
  {
   "cell_type": "code",
   "execution_count": 4,
   "id": "76994f40",
   "metadata": {},
   "outputs": [],
   "source": [
    "\n",
    "def srs_sampling(file_name, sampling_percentage, output_file):\n",
    "    # create a reader for the vti file\n",
    "    reader = vtk.vtkXMLImageDataReader()\n",
    "    reader.SetFileName(file_name)\n",
    "    reader.Update()\n",
    "\n",
    "    # get the dimensions of the data set\n",
    "    dims = reader.GetOutput().GetDimensions()\n",
    "    \n",
    "    # create a set to store the sampled points\n",
    "    samples = set()\n",
    "    \n",
    "    # add the eight corner points to the set of sampled points\n",
    "    corner_points = [(0, 0, 0), (dims[0]-1, 0, 0), (0, dims[1]-1, 0), (dims[0]-1, dims[1]-1, 0),\n",
    "                     (0, 0, dims[2]-1), (dims[0]-1, 0, dims[2]-1), (0, dims[1]-1, dims[2]-1), (dims[0]-1, dims[1]-1, dims[2]-1)]\n",
    "    samples.update(corner_points)\n",
    "    \n",
    "    # calculate the total number of points in the data set\n",
    "    total_points = dims[0] * dims[1] * dims[2]\n",
    "\n",
    "    # calculate the number of points to sample\n",
    "    num_samples = int(sampling_percentage / 100 * total_points)\n",
    "    \n",
    "    # sample random points from the data set\n",
    "    while len(samples) < num_samples:\n",
    "        i = random.randint(0, dims[0]-1)\n",
    "        j = random.randint(0, dims[1]-1)\n",
    "        k = random.randint(0, dims[2]-1)\n",
    "        samples.add((i, j, k))\n",
    "    \n",
    "    # create a vtkPoints object to store the sampled points\n",
    "    points = vtk.vtkPoints()\n",
    "    data_values = vtk.vtkIntArray()\n",
    "    data_values.SetName(\"DataValues\")\n",
    "    for sample in samples:\n",
    "        point_data = reader.GetOutput().GetPointData().GetScalars().GetTuple(sample[0] + sample[1]*dims[0] + sample[2]*dims[0]*dims[1])\n",
    "        points.InsertNextPoint(sample)\n",
    "        data_values.InsertNextTuple1(point_data[0])\n",
    "\n",
    "    # create a vtkPolyData object to store the sampled points\n",
    "    polydata = vtk.vtkPolyData()\n",
    "    polydata.SetPoints(points)\n",
    "    polydata.GetPointData().AddArray(data_values)\n",
    "\n",
    "    # write the vtkPolyData to a file\n",
    "    writer = vtk.vtkXMLPolyDataWriter()\n",
    "    writer.SetFileName(output_file)\n",
    "    writer.SetInputData(polydata)\n",
    "    writer.Write()\n",
    "    \n",
    "    \n",
    "    sampled_points = np.array([points.GetPoint(i) for i in range(points.GetNumberOfPoints())])\n",
    "\n",
    "        \n",
    "    return sampled_points,data_values\n"
   ]
  },
  {
   "cell_type": "code",
   "execution_count": 5,
   "id": "f0e1ce75",
   "metadata": {},
   "outputs": [],
   "source": [
    "def COMPUTE_SNR(arrgt,arr_recon):\n",
    "    diff=arrgt-arr_recon\n",
    "    sqd_max_diff=(np.max(arrgt)-np.min(arrgt))**2\n",
    "    snr=10*np.log10(sqd_max_diff/np.mean(diff**2))\n",
    "    return snr"
   ]
  },
  {
   "cell_type": "code",
   "execution_count": 6,
   "id": "31a87df2",
   "metadata": {},
   "outputs": [],
   "source": [
    "def reconstruct_volume(method,sampled_points,data_values,total_points):\n",
    "    if method == 'nearest':\n",
    "        start_time = time.time()\n",
    "        interp = griddata(sampled_points, data_values, total_points, method='nearest')\n",
    "        end_time = time.time()\n",
    "        time_taken = end_time - start_time\n",
    "        print(\"SNR for nearest:\",COMPUTE_SNR(total_values,interp))\n",
    "        print(f\"Time taken for reconstruction for {sampling_percentage}%:\", time_taken)\n",
    "        \n",
    "        \n",
    "    elif method == 'linear':\n",
    "        start_time = time.time()\n",
    "        interp = griddata(sampled_points, data_values, total_points, method='linear')\n",
    "        end_time = time.time()\n",
    "        time_taken = end_time - start_time\n",
    "        print(\"SNR for linear:\",COMPUTE_SNR(total_values,interp))\n",
    "        print(f\"Time taken for reconstruction for {sampling_percentage}%:\", time_taken)    \n",
    "        \n",
    "    # Create a vtkImageData object and set its dimensions, origin, and spacing\n",
    "    imageData = vtk.vtkImageData()\n",
    "    imageData.SetDimensions(original_dim)\n",
    "    imageData.SetOrigin(0, 0, 0)\n",
    "    imageData.SetSpacing(1, 1, 1)\n",
    "    \n",
    "    # create vtkDoubleArray \n",
    "    voxelValues = vtk.vtkDoubleArray()\n",
    "    voxelValues.SetNumberOfComponents(1)\n",
    "    \n",
    "    for point in interp:\n",
    "        voxelValues.InsertNextValue(point) \n",
    "        \n",
    "    # set voxel values in vtkImageData object\n",
    "    imageData.GetPointData().SetScalars(voxelValues)\n",
    "    \n",
    "    # write to file\n",
    "    writer = vtk.vtkXMLImageDataWriter()\n",
    "    writer.SetFileName('reconstructed_volume.vti')\n",
    "    writer.SetInputData(imageData)\n",
    "    writer.Write()"
   ]
  },
  {
   "cell_type": "code",
   "execution_count": 7,
   "id": "a5c46369",
   "metadata": {},
   "outputs": [
    {
     "name": "stdout",
     "output_type": "stream",
     "text": [
      "Enter the sampling percentage %:5\n",
      "Enter the method for reconstruction:linear\n",
      "SNR for linear: 40.73854138840672\n",
      "Time taken for reconstruction for 5%: 380.18273735046387\n"
     ]
    }
   ],
   "source": [
    "sampling_percentage=int(input('Enter the sampling percentage %:'))\n",
    "method = input(\"Enter the method for reconstruction:\")\n",
    "sampled_points,data_values = srs_sampling('Isabel_3D.vti', sampling_percentage,'output.vtp')\n",
    "reconstruct_volume(method,sampled_points,data_values,total_points)"
   ]
  },
  {
   "cell_type": "code",
   "execution_count": null,
   "id": "69178406",
   "metadata": {},
   "outputs": [],
   "source": []
  }
 ],
 "metadata": {
  "kernelspec": {
   "display_name": "Python 3 (ipykernel)",
   "language": "python",
   "name": "python3"
  },
  "language_info": {
   "codemirror_mode": {
    "name": "ipython",
    "version": 3
   },
   "file_extension": ".py",
   "mimetype": "text/x-python",
   "name": "python",
   "nbconvert_exporter": "python",
   "pygments_lexer": "ipython3",
   "version": "3.10.5"
  }
 },
 "nbformat": 4,
 "nbformat_minor": 5
}
